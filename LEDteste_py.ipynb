{
  "nbformat": 4,
  "nbformat_minor": 0,
  "metadata": {
    "colab": {
      "provenance": [],
      "authorship_tag": "ABX9TyNPf9bR90raqdFc83nWBXWp",
      "include_colab_link": true
    },
    "kernelspec": {
      "name": "python3",
      "display_name": "Python 3"
    },
    "language_info": {
      "name": "python"
    }
  },
  "cells": [
    {
      "cell_type": "markdown",
      "metadata": {
        "id": "view-in-github",
        "colab_type": "text"
      },
      "source": [
        "<a href=\"https://colab.research.google.com/github/samjmarcena/ESZB026-17-5-2022J/blob/main/LEDteste_py.ipynb\" target=\"_parent\"><img src=\"https://colab.research.google.com/assets/colab-badge.svg\" alt=\"Open In Colab\"/></a>"
      ]
    },
    {
      "cell_type": "code",
      "execution_count": null,
      "metadata": {
        "id": "iNefULuSOB30"
      },
      "outputs": [],
      "source": [
        "import RPi.GPIO as GPIO\n",
        "import time\n",
        "\n",
        "LED_AMARELO = 16  # Número do pino GPIO conectado ao LED\n",
        "\n",
        "# Configuração inicial\n",
        "GPIO.setmode(GPIO.BCM)\n",
        "GPIO.setup(LED_AMARELO, GPIO.OUT)\n",
        "\n",
        "# Ligar o LED\n",
        "GPIO.output(LED_AMARELO, GPIO.HIGH)\n",
        "\n",
        "# Aguardar 3 segundos\n",
        "time.sleep(3)\n",
        "\n",
        "# Desligar o LED\n",
        "GPIO.output(LED_AMARELO, GPIO.LOW)\n",
        "\n",
        "# Limpeza dos recursos utilizados\n",
        "GPIO.cleanup()\n"
      ]
    }
  ]
}